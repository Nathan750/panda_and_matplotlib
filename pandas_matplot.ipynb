{
 "cells": [
  {
   "cell_type": "code",
   "execution_count": 1,
   "metadata": {},
   "outputs": [],
   "source": [
    "import pandas as pd"
   ]
  },
  {
   "cell_type": "code",
   "execution_count": 2,
   "metadata": {},
   "outputs": [
    {
     "ename": "NameError",
     "evalue": "name 'SparkSession' is not defined",
     "output_type": "error",
     "traceback": [
      "\u001b[1;31m---------------------------------------------------------------------------\u001b[0m",
      "\u001b[1;31mNameError\u001b[0m                                 Traceback (most recent call last)",
      "\u001b[1;32mc:\\Users\\Nathan.Kipchumba\\OneDrive - I&M Bank Limited\\Desktop\\pyth\\another.ipynb Cell 2\u001b[0m line \u001b[0;36m1\n\u001b[1;32m----> <a href='vscode-notebook-cell:/c%3A/Users/Nathan.Kipchumba/OneDrive%20-%20I%26M%20Bank%20Limited/Desktop/pyth/another.ipynb#W1sZmlsZQ%3D%3D?line=0'>1</a>\u001b[0m spark\u001b[39m=\u001b[39mSparkSession\u001b[39m.\u001b[39mbuilder\u001b[39m.\u001b[39mappName(\u001b[39m'\u001b[39m\u001b[39mpypandaspark\u001b[39m\u001b[39m'\u001b[39m)\u001b[39m.\u001b[39mgetOrCreate()\n",
      "\u001b[1;31mNameError\u001b[0m: name 'SparkSession' is not defined"
     ]
    }
   ],
   "source": []
  },
  {
   "cell_type": "code",
   "execution_count": 3,
   "metadata": {},
   "outputs": [],
   "source": [
    "lb=pd.read_excel(r\"C:\\Users\\Nathan.Kipchumba\\OneDrive - I&M Bank Limited\\Desktop\\pyth\\logbook.xlsx\")"
   ]
  },
  {
   "cell_type": "code",
   "execution_count": 4,
   "metadata": {},
   "outputs": [
    {
     "name": "stdout",
     "output_type": "stream",
     "text": [
      "       Root     RegNo RegStatus CurrStatus               StDate TransferForm  \\\n",
      "0     12861  KBJ 863R     JOINT   RELEASED                  NaN     IN PLACE   \n",
      "1     12861  KBM 923P     JOINT   IN PLACE                  NaN     IN PLACE   \n",
      "2     12861  KBX 240K     JOINT   RELEASED  2016-12-21 00:00:00          NaN   \n",
      "3     12861  KBZ 591E     JOINT   RELEASED  2017-10-02 00:00:00          NaN   \n",
      "4     12874   KDC015Q     JOINT   IN PLACE  2021-05-10 00:00:00     IN PLACE   \n",
      "..      ...       ...       ...        ...                  ...          ...   \n",
      "305  265085   KCP974L     JOINT   IN PLACE                  NaN     IN PLACE   \n",
      "306  266014   KCX109B    JOINT    IN PLACE                  NaN     IN PLACE   \n",
      "307  266014   KCX105B    JOINT    IN PLACE                  NaN     IN PLACE   \n",
      "308  266959   KCH928Z    JOINT    IN PLACE                  NaN     IN PLACE   \n",
      "309  267028   KDE406B       NaN   MISSING                   NaN     IN PLACE   \n",
      "\n",
      "              TrackerID          TrackingExp                      ValuerID  \\\n",
      "0     NOT A REQUIREMENT                  NaN                           NaN   \n",
      "1     NOT A REQUIREMENT                  NaN                           NaN   \n",
      "2                   NaN                  NaN                           NaN   \n",
      "3         TRACK N TRACE  2015-04-19 00:00:00                           NaN   \n",
      "4    CREST TRACKERS LTD  2022-06-12 00:00:00  PRIME ACCIDENT ASSESSORS LTD   \n",
      "..                  ...                  ...                           ...   \n",
      "305          TRACKTRAIL  2022-02-10 00:00:00                       GEO-SAT   \n",
      "306          TRAILMYCAR  2024-01-31 00:00:00                           NaN   \n",
      "307          TRAILMYCAR  2024-01-31 00:00:00                           NaN   \n",
      "308          TRAILMYCAR  2026-08-29 00:00:00            FAHARI VALUERS LTD   \n",
      "309             GEO-SAT  2026-10-20 00:00:00                       GEO-SAT   \n",
      "\n",
      "     CCY  ...   YOM                               Comment Make Model  \\\n",
      "0    KES  ...   NaN                                   NaN  NaN   NaN   \n",
      "1    KES  ...   NaN                                   NaN  NaN   NaN   \n",
      "2    KES  ...   NaN  NOT JOINTLY REGISTERED WITH THE BANK  NaN   NaN   \n",
      "3    KES  ...   NaN                                   NaN  NaN   NaN   \n",
      "4    KSH  ...  2014                                   NaN  NaN   NaN   \n",
      "..   ...  ...   ...                                   ...  ...   ...   \n",
      "305  KSH  ...  2010                                   NaN  NaN   NaN   \n",
      "306  NaN  ...  2019                                   NaN  NaN   NaN   \n",
      "307  NaN  ...  2019                                   NaN  NaN   NaN   \n",
      "308  KSH  ...  2015                                   NaN  NaN   NaN   \n",
      "309  KSH  ...  2014                                   NaN  NaN   NaN   \n",
      "\n",
      "    Body Type Chassis Engine  Color  Type  Date of Registration  \n",
      "0         NaN     NaN    NaN    NaN   NaN                   NaN  \n",
      "1         NaN     NaN    NaN    NaN   NaN                   NaN  \n",
      "2         NaN     NaN    NaN    NaN   NaN                   NaN  \n",
      "3         NaN     NaN    NaN    NaN   NaN                   NaN  \n",
      "4         NaN     NaN    NaN    NaN   NaN                   NaN  \n",
      "..        ...     ...    ...    ...   ...                   ...  \n",
      "305       NaN     NaN    NaN    NaN   NaN                   NaN  \n",
      "306       NaN     NaN    NaN    NaN   NaN                   NaN  \n",
      "307       NaN     NaN    NaN    NaN   NaN                   NaN  \n",
      "308       NaN     NaN    NaN    NaN   NaN                   NaN  \n",
      "309       NaN     NaN    NaN    NaN   NaN                   NaN  \n",
      "\n",
      "[310 rows x 25 columns]\n"
     ]
    }
   ],
   "source": [
    "print(lb)"
   ]
  },
  {
   "cell_type": "code",
   "execution_count": 5,
   "metadata": {},
   "outputs": [],
   "source": [
    "dfl=pd.DataFrame(lb, columns=(['Root', 'RegNo']))"
   ]
  },
  {
   "cell_type": "code",
   "execution_count": 6,
   "metadata": {},
   "outputs": [
    {
     "name": "stdout",
     "output_type": "stream",
     "text": [
      "    Root     RegNo\n",
      "1  12861  KBM 923P\n",
      "2  12861  KBX 240K\n",
      "3  12861  KBZ 591E\n"
     ]
    }
   ],
   "source": [
    "print(dfl[(dfl['Root'] == 12861) != (dfl['RegNo'] == 'KBJ 863R')])"
   ]
  },
  {
   "cell_type": "code",
   "execution_count": 9,
   "metadata": {},
   "outputs": [
    {
     "data": {
      "text/html": [
       "<div>\n",
       "<style scoped>\n",
       "    .dataframe tbody tr th:only-of-type {\n",
       "        vertical-align: middle;\n",
       "    }\n",
       "\n",
       "    .dataframe tbody tr th {\n",
       "        vertical-align: top;\n",
       "    }\n",
       "\n",
       "    .dataframe thead th {\n",
       "        text-align: right;\n",
       "    }\n",
       "</style>\n",
       "<table border=\"1\" class=\"dataframe\">\n",
       "  <thead>\n",
       "    <tr style=\"text-align: right;\">\n",
       "      <th></th>\n",
       "      <th>Root</th>\n",
       "      <th>RegNo</th>\n",
       "    </tr>\n",
       "  </thead>\n",
       "  <tbody>\n",
       "    <tr>\n",
       "      <th>0</th>\n",
       "      <td>12861</td>\n",
       "      <td>KBJ 863R</td>\n",
       "    </tr>\n",
       "    <tr>\n",
       "      <th>1</th>\n",
       "      <td>12861</td>\n",
       "      <td>KBM 923P</td>\n",
       "    </tr>\n",
       "    <tr>\n",
       "      <th>2</th>\n",
       "      <td>12861</td>\n",
       "      <td>KBX 240K</td>\n",
       "    </tr>\n",
       "    <tr>\n",
       "      <th>3</th>\n",
       "      <td>12861</td>\n",
       "      <td>KBZ 591E</td>\n",
       "    </tr>\n",
       "    <tr>\n",
       "      <th>4</th>\n",
       "      <td>12874</td>\n",
       "      <td>KDC015Q</td>\n",
       "    </tr>\n",
       "    <tr>\n",
       "      <th>...</th>\n",
       "      <td>...</td>\n",
       "      <td>...</td>\n",
       "    </tr>\n",
       "    <tr>\n",
       "      <th>305</th>\n",
       "      <td>265085</td>\n",
       "      <td>KCP974L</td>\n",
       "    </tr>\n",
       "    <tr>\n",
       "      <th>306</th>\n",
       "      <td>266014</td>\n",
       "      <td>KCX109B</td>\n",
       "    </tr>\n",
       "    <tr>\n",
       "      <th>307</th>\n",
       "      <td>266014</td>\n",
       "      <td>KCX105B</td>\n",
       "    </tr>\n",
       "    <tr>\n",
       "      <th>308</th>\n",
       "      <td>266959</td>\n",
       "      <td>KCH928Z</td>\n",
       "    </tr>\n",
       "    <tr>\n",
       "      <th>309</th>\n",
       "      <td>267028</td>\n",
       "      <td>KDE406B</td>\n",
       "    </tr>\n",
       "  </tbody>\n",
       "</table>\n",
       "<p>310 rows × 2 columns</p>\n",
       "</div>"
      ],
      "text/plain": [
       "       Root     RegNo\n",
       "0     12861  KBJ 863R\n",
       "1     12861  KBM 923P\n",
       "2     12861  KBX 240K\n",
       "3     12861  KBZ 591E\n",
       "4     12874   KDC015Q\n",
       "..      ...       ...\n",
       "305  265085   KCP974L\n",
       "306  266014   KCX109B\n",
       "307  266014   KCX105B\n",
       "308  266959   KCH928Z\n",
       "309  267028   KDE406B\n",
       "\n",
       "[310 rows x 2 columns]"
      ]
     },
     "execution_count": 9,
     "metadata": {},
     "output_type": "execute_result"
    }
   ],
   "source": [
    "dfl.sort_values(by='Root',ascending=True)"
   ]
  },
  {
   "cell_type": "code",
   "execution_count": 10,
   "metadata": {},
   "outputs": [],
   "source": [
    "chatls=pd.read_excel(r\"C:\\Users\\Nathan.Kipchumba\\OneDrive - I&M Bank Limited\\Desktop\\pyth\\chattels.xlsx\")"
   ]
  },
  {
   "cell_type": "code",
   "execution_count": 11,
   "metadata": {},
   "outputs": [],
   "source": [
    "dfc=pd.DataFrame(chatls, columns=(['Root','ChatType','Currency','Amount']))"
   ]
  },
  {
   "cell_type": "code",
   "execution_count": 12,
   "metadata": {},
   "outputs": [
    {
     "name": "stdout",
     "output_type": "stream",
     "text": [
      "       Root     RegNo\n",
      "0     12861  KBJ 863R\n",
      "1     12861  KBM 923P\n",
      "2     12861  KBX 240K\n",
      "3     12861  KBZ 591E\n",
      "4     12874   KDC015Q\n",
      "..      ...       ...\n",
      "305  265085   KCP974L\n",
      "306  266014   KCX109B\n",
      "307  266014   KCX105B\n",
      "308  266959   KCH928Z\n",
      "309  267028   KDE406B\n",
      "\n",
      "[310 rows x 2 columns]\n"
     ]
    }
   ],
   "source": [
    "print(dfl)"
   ]
  },
  {
   "cell_type": "code",
   "execution_count": 13,
   "metadata": {},
   "outputs": [
    {
     "name": "stdout",
     "output_type": "stream",
     "text": [
      "                0          1           2            3          4          5    \\\n",
      "Root          10809      10809       11090        11090      11866      11899   \n",
      "ChatType  DEBENTURE  DEBENTURE   DEBENTURE    DEBENTURE  DEBENTURE  DEBENTURE   \n",
      "Currency        USD        USD         KSH          KSH        USD        USD   \n",
      "Amount    2200000.0   600000.0  50000000.0  100000000.0  3000000.0   800000.0   \n",
      "\n",
      "                6          7           8           9    ...        222  \\\n",
      "Root          12192      12192       12277       12277  ...     260860   \n",
      "ChatType  DEBENTURE  DEBENTURE  DEBENTURE   DEBENTURE   ...   CHETTELS   \n",
      "Currency        USD        USD         USD         USD  ...        KSH   \n",
      "Amount    2000000.0  3000000.0   1600000.0    500000.0  ...  1400000.0   \n",
      "\n",
      "                223        224         225       226         227        228  \\\n",
      "Root         262092     263140      264015    265085      265741     266014   \n",
      "ChatType   CHATTELS   CHATTELS   DEBENTURE  CHATTELS  DEBENTURE   DEBENTURE   \n",
      "Currency        KSH        KSH         KSH       KSH         KSH        USD   \n",
      "Amount    4400000.0  3000000.0  20000000.0  750000.0    420000.0   108000.0   \n",
      "\n",
      "                 229        230         231  \n",
      "Root          266228     266959      267028  \n",
      "ChatType   DEBENTURE   CHATTELS    CHATTELS  \n",
      "Currency         KSH        KSH         KSH  \n",
      "Amount    13000000.0  2700000.0  1018617.38  \n",
      "\n",
      "[4 rows x 232 columns]\n"
     ]
    }
   ],
   "source": [
    "print(dfc.T)#TRANSPOSE TRANSPOSE()"
   ]
  },
  {
   "cell_type": "code",
   "execution_count": 15,
   "metadata": {},
   "outputs": [
    {
     "data": {
      "text/html": [
       "<div>\n",
       "<style scoped>\n",
       "    .dataframe tbody tr th:only-of-type {\n",
       "        vertical-align: middle;\n",
       "    }\n",
       "\n",
       "    .dataframe tbody tr th {\n",
       "        vertical-align: top;\n",
       "    }\n",
       "\n",
       "    .dataframe thead th {\n",
       "        text-align: right;\n",
       "    }\n",
       "</style>\n",
       "<table border=\"1\" class=\"dataframe\">\n",
       "  <thead>\n",
       "    <tr style=\"text-align: right;\">\n",
       "      <th></th>\n",
       "      <th>Root</th>\n",
       "      <th>ChatType</th>\n",
       "      <th>Currency</th>\n",
       "      <th>Amount</th>\n",
       "    </tr>\n",
       "  </thead>\n",
       "  <tbody>\n",
       "    <tr>\n",
       "      <th>0</th>\n",
       "      <td>10809</td>\n",
       "      <td>DEBENTURE</td>\n",
       "      <td>USD</td>\n",
       "      <td>2.200000e+06</td>\n",
       "    </tr>\n",
       "    <tr>\n",
       "      <th>1</th>\n",
       "      <td>10809</td>\n",
       "      <td>DEBENTURE</td>\n",
       "      <td>USD</td>\n",
       "      <td>6.000000e+05</td>\n",
       "    </tr>\n",
       "    <tr>\n",
       "      <th>2</th>\n",
       "      <td>11090</td>\n",
       "      <td>DEBENTURE</td>\n",
       "      <td>KSH</td>\n",
       "      <td>5.000000e+07</td>\n",
       "    </tr>\n",
       "    <tr>\n",
       "      <th>3</th>\n",
       "      <td>11090</td>\n",
       "      <td>DEBENTURE</td>\n",
       "      <td>KSH</td>\n",
       "      <td>1.000000e+08</td>\n",
       "    </tr>\n",
       "    <tr>\n",
       "      <th>4</th>\n",
       "      <td>11866</td>\n",
       "      <td>DEBENTURE</td>\n",
       "      <td>USD</td>\n",
       "      <td>3.000000e+06</td>\n",
       "    </tr>\n",
       "    <tr>\n",
       "      <th>...</th>\n",
       "      <td>...</td>\n",
       "      <td>...</td>\n",
       "      <td>...</td>\n",
       "      <td>...</td>\n",
       "    </tr>\n",
       "    <tr>\n",
       "      <th>227</th>\n",
       "      <td>265741</td>\n",
       "      <td>DEBENTURE</td>\n",
       "      <td>KSH</td>\n",
       "      <td>4.200000e+05</td>\n",
       "    </tr>\n",
       "    <tr>\n",
       "      <th>228</th>\n",
       "      <td>266014</td>\n",
       "      <td>DEBENTURE</td>\n",
       "      <td>USD</td>\n",
       "      <td>1.080000e+05</td>\n",
       "    </tr>\n",
       "    <tr>\n",
       "      <th>229</th>\n",
       "      <td>266228</td>\n",
       "      <td>DEBENTURE</td>\n",
       "      <td>KSH</td>\n",
       "      <td>1.300000e+07</td>\n",
       "    </tr>\n",
       "    <tr>\n",
       "      <th>230</th>\n",
       "      <td>266959</td>\n",
       "      <td>CHATTELS</td>\n",
       "      <td>KSH</td>\n",
       "      <td>2.700000e+06</td>\n",
       "    </tr>\n",
       "    <tr>\n",
       "      <th>231</th>\n",
       "      <td>267028</td>\n",
       "      <td>CHATTELS</td>\n",
       "      <td>KSH</td>\n",
       "      <td>1.018617e+06</td>\n",
       "    </tr>\n",
       "  </tbody>\n",
       "</table>\n",
       "<p>232 rows × 4 columns</p>\n",
       "</div>"
      ],
      "text/plain": [
       "       Root    ChatType Currency        Amount\n",
       "0     10809   DEBENTURE      USD  2.200000e+06\n",
       "1     10809   DEBENTURE      USD  6.000000e+05\n",
       "2     11090   DEBENTURE      KSH  5.000000e+07\n",
       "3     11090   DEBENTURE      KSH  1.000000e+08\n",
       "4     11866   DEBENTURE      USD  3.000000e+06\n",
       "..      ...         ...      ...           ...\n",
       "227  265741  DEBENTURE       KSH  4.200000e+05\n",
       "228  266014   DEBENTURE      USD  1.080000e+05\n",
       "229  266228   DEBENTURE      KSH  1.300000e+07\n",
       "230  266959    CHATTELS      KSH  2.700000e+06\n",
       "231  267028    CHATTELS      KSH  1.018617e+06\n",
       "\n",
       "[232 rows x 4 columns]"
      ]
     },
     "execution_count": 15,
     "metadata": {},
     "output_type": "execute_result"
    }
   ],
   "source": [
    "dfc"
   ]
  },
  {
   "cell_type": "code",
   "execution_count": 11,
   "metadata": {},
   "outputs": [
    {
     "ename": "KeyError",
     "evalue": "\"['Amount_in_KES'] not found in axis\"",
     "output_type": "error",
     "traceback": [
      "\u001b[1;31m---------------------------------------------------------------------------\u001b[0m",
      "\u001b[1;31mKeyError\u001b[0m                                  Traceback (most recent call last)",
      "\u001b[1;32mc:\\Users\\Nathan.Kipchumba\\OneDrive - I&M Bank Limited\\Desktop\\pyth\\another.ipynb Cell 12\u001b[0m line \u001b[0;36m1\n\u001b[1;32m----> <a href='vscode-notebook-cell:/c%3A/Users/Nathan.Kipchumba/OneDrive%20-%20I%26M%20Bank%20Limited/Desktop/pyth/another.ipynb#X14sZmlsZQ%3D%3D?line=0'>1</a>\u001b[0m dfc\u001b[39m=\u001b[39mdfc\u001b[39m.\u001b[39;49mdrop([\u001b[39m'\u001b[39;49m\u001b[39mAmount_in_KES\u001b[39;49m\u001b[39m'\u001b[39;49m],axis\u001b[39m=\u001b[39;49m\u001b[39m1\u001b[39;49m)\n",
      "File \u001b[1;32mc:\\Users\\Nathan.Kipchumba\\AppData\\Local\\Programs\\Python\\Python312\\Lib\\site-packages\\pandas\\core\\frame.py:5347\u001b[0m, in \u001b[0;36mDataFrame.drop\u001b[1;34m(self, labels, axis, index, columns, level, inplace, errors)\u001b[0m\n\u001b[0;32m   5199\u001b[0m \u001b[39mdef\u001b[39;00m \u001b[39mdrop\u001b[39m(\n\u001b[0;32m   5200\u001b[0m     \u001b[39mself\u001b[39m,\n\u001b[0;32m   5201\u001b[0m     labels: IndexLabel \u001b[39m|\u001b[39m \u001b[39mNone\u001b[39;00m \u001b[39m=\u001b[39m \u001b[39mNone\u001b[39;00m,\n\u001b[1;32m   (...)\u001b[0m\n\u001b[0;32m   5208\u001b[0m     errors: IgnoreRaise \u001b[39m=\u001b[39m \u001b[39m\"\u001b[39m\u001b[39mraise\u001b[39m\u001b[39m\"\u001b[39m,\n\u001b[0;32m   5209\u001b[0m ) \u001b[39m-\u001b[39m\u001b[39m>\u001b[39m DataFrame \u001b[39m|\u001b[39m \u001b[39mNone\u001b[39;00m:\n\u001b[0;32m   5210\u001b[0m \u001b[39m    \u001b[39m\u001b[39m\"\"\"\u001b[39;00m\n\u001b[0;32m   5211\u001b[0m \u001b[39m    Drop specified labels from rows or columns.\u001b[39;00m\n\u001b[0;32m   5212\u001b[0m \n\u001b[1;32m   (...)\u001b[0m\n\u001b[0;32m   5345\u001b[0m \u001b[39m            weight  1.0     0.8\u001b[39;00m\n\u001b[0;32m   5346\u001b[0m \u001b[39m    \"\"\"\u001b[39;00m\n\u001b[1;32m-> 5347\u001b[0m     \u001b[39mreturn\u001b[39;00m \u001b[39msuper\u001b[39;49m()\u001b[39m.\u001b[39;49mdrop(\n\u001b[0;32m   5348\u001b[0m         labels\u001b[39m=\u001b[39;49mlabels,\n\u001b[0;32m   5349\u001b[0m         axis\u001b[39m=\u001b[39;49maxis,\n\u001b[0;32m   5350\u001b[0m         index\u001b[39m=\u001b[39;49mindex,\n\u001b[0;32m   5351\u001b[0m         columns\u001b[39m=\u001b[39;49mcolumns,\n\u001b[0;32m   5352\u001b[0m         level\u001b[39m=\u001b[39;49mlevel,\n\u001b[0;32m   5353\u001b[0m         inplace\u001b[39m=\u001b[39;49minplace,\n\u001b[0;32m   5354\u001b[0m         errors\u001b[39m=\u001b[39;49merrors,\n\u001b[0;32m   5355\u001b[0m     )\n",
      "File \u001b[1;32mc:\\Users\\Nathan.Kipchumba\\AppData\\Local\\Programs\\Python\\Python312\\Lib\\site-packages\\pandas\\core\\generic.py:4711\u001b[0m, in \u001b[0;36mNDFrame.drop\u001b[1;34m(self, labels, axis, index, columns, level, inplace, errors)\u001b[0m\n\u001b[0;32m   4709\u001b[0m \u001b[39mfor\u001b[39;00m axis, labels \u001b[39min\u001b[39;00m axes\u001b[39m.\u001b[39mitems():\n\u001b[0;32m   4710\u001b[0m     \u001b[39mif\u001b[39;00m labels \u001b[39mis\u001b[39;00m \u001b[39mnot\u001b[39;00m \u001b[39mNone\u001b[39;00m:\n\u001b[1;32m-> 4711\u001b[0m         obj \u001b[39m=\u001b[39m obj\u001b[39m.\u001b[39;49m_drop_axis(labels, axis, level\u001b[39m=\u001b[39;49mlevel, errors\u001b[39m=\u001b[39;49merrors)\n\u001b[0;32m   4713\u001b[0m \u001b[39mif\u001b[39;00m inplace:\n\u001b[0;32m   4714\u001b[0m     \u001b[39mself\u001b[39m\u001b[39m.\u001b[39m_update_inplace(obj)\n",
      "File \u001b[1;32mc:\\Users\\Nathan.Kipchumba\\AppData\\Local\\Programs\\Python\\Python312\\Lib\\site-packages\\pandas\\core\\generic.py:4753\u001b[0m, in \u001b[0;36mNDFrame._drop_axis\u001b[1;34m(self, labels, axis, level, errors, only_slice)\u001b[0m\n\u001b[0;32m   4751\u001b[0m         new_axis \u001b[39m=\u001b[39m axis\u001b[39m.\u001b[39mdrop(labels, level\u001b[39m=\u001b[39mlevel, errors\u001b[39m=\u001b[39merrors)\n\u001b[0;32m   4752\u001b[0m     \u001b[39melse\u001b[39;00m:\n\u001b[1;32m-> 4753\u001b[0m         new_axis \u001b[39m=\u001b[39m axis\u001b[39m.\u001b[39;49mdrop(labels, errors\u001b[39m=\u001b[39;49merrors)\n\u001b[0;32m   4754\u001b[0m     indexer \u001b[39m=\u001b[39m axis\u001b[39m.\u001b[39mget_indexer(new_axis)\n\u001b[0;32m   4756\u001b[0m \u001b[39m# Case for non-unique axis\u001b[39;00m\n\u001b[0;32m   4757\u001b[0m \u001b[39melse\u001b[39;00m:\n",
      "File \u001b[1;32mc:\\Users\\Nathan.Kipchumba\\AppData\\Local\\Programs\\Python\\Python312\\Lib\\site-packages\\pandas\\core\\indexes\\base.py:6992\u001b[0m, in \u001b[0;36mIndex.drop\u001b[1;34m(self, labels, errors)\u001b[0m\n\u001b[0;32m   6990\u001b[0m \u001b[39mif\u001b[39;00m mask\u001b[39m.\u001b[39many():\n\u001b[0;32m   6991\u001b[0m     \u001b[39mif\u001b[39;00m errors \u001b[39m!=\u001b[39m \u001b[39m\"\u001b[39m\u001b[39mignore\u001b[39m\u001b[39m\"\u001b[39m:\n\u001b[1;32m-> 6992\u001b[0m         \u001b[39mraise\u001b[39;00m \u001b[39mKeyError\u001b[39;00m(\u001b[39mf\u001b[39m\u001b[39m\"\u001b[39m\u001b[39m{\u001b[39;00mlabels[mask]\u001b[39m.\u001b[39mtolist()\u001b[39m}\u001b[39;00m\u001b[39m not found in axis\u001b[39m\u001b[39m\"\u001b[39m)\n\u001b[0;32m   6993\u001b[0m     indexer \u001b[39m=\u001b[39m indexer[\u001b[39m~\u001b[39mmask]\n\u001b[0;32m   6994\u001b[0m \u001b[39mreturn\u001b[39;00m \u001b[39mself\u001b[39m\u001b[39m.\u001b[39mdelete(indexer)\n",
      "\u001b[1;31mKeyError\u001b[0m: \"['Amount_in_KES'] not found in axis\""
     ]
    }
   ],
   "source": [
    "dfc=dfc.drop(['Amount_in_KES'],axis=1)"
   ]
  },
  {
   "cell_type": "code",
   "execution_count": 16,
   "metadata": {},
   "outputs": [
    {
     "name": "stdout",
     "output_type": "stream",
     "text": [
      "       Root    ChatType Currency        Amount\n",
      "0     10809   DEBENTURE      USD  2.200000e+06\n",
      "1     10809   DEBENTURE      USD  6.000000e+05\n",
      "2     11090   DEBENTURE      KSH  5.000000e+07\n",
      "3     11090   DEBENTURE      KSH  1.000000e+08\n",
      "4     11866   DEBENTURE      USD  3.000000e+06\n",
      "..      ...         ...      ...           ...\n",
      "227  265741  DEBENTURE       KSH  4.200000e+05\n",
      "228  266014   DEBENTURE      USD  1.080000e+05\n",
      "229  266228   DEBENTURE      KSH  1.300000e+07\n",
      "230  266959    CHATTELS      KSH  2.700000e+06\n",
      "231  267028    CHATTELS      KSH  1.018617e+06\n",
      "\n",
      "[232 rows x 4 columns]\n"
     ]
    }
   ],
   "source": [
    "print(dfc)"
   ]
  },
  {
   "cell_type": "code",
   "execution_count": 17,
   "metadata": {},
   "outputs": [],
   "source": [
    "oldval='KSH'"
   ]
  },
  {
   "cell_type": "code",
   "execution_count": 18,
   "metadata": {},
   "outputs": [],
   "source": [
    "newval='KES'"
   ]
  },
  {
   "cell_type": "code",
   "execution_count": 19,
   "metadata": {},
   "outputs": [],
   "source": [
    "dfc['Currency']=dfc['Currency'].replace(oldval,newval)"
   ]
  },
  {
   "cell_type": "code",
   "execution_count": 20,
   "metadata": {},
   "outputs": [
    {
     "name": "stdout",
     "output_type": "stream",
     "text": [
      "       Root    ChatType Currency        Amount\n",
      "0     10809   DEBENTURE      USD  2.200000e+06\n",
      "1     10809   DEBENTURE      USD  6.000000e+05\n",
      "2     11090   DEBENTURE      KES  5.000000e+07\n",
      "3     11090   DEBENTURE      KES  1.000000e+08\n",
      "4     11866   DEBENTURE      USD  3.000000e+06\n",
      "..      ...         ...      ...           ...\n",
      "227  265741  DEBENTURE       KES  4.200000e+05\n",
      "228  266014   DEBENTURE      USD  1.080000e+05\n",
      "229  266228   DEBENTURE      KES  1.300000e+07\n",
      "230  266959    CHATTELS      KES  2.700000e+06\n",
      "231  267028    CHATTELS      KES  1.018617e+06\n",
      "\n",
      "[232 rows x 4 columns]\n"
     ]
    }
   ],
   "source": [
    "print(dfc)"
   ]
  },
  {
   "cell_type": "code",
   "execution_count": 21,
   "metadata": {},
   "outputs": [],
   "source": [
    "usd_to_kes_rate = 110.0 \n",
    "eur_to_kes_rate = 130.0"
   ]
  },
  {
   "cell_type": "code",
   "execution_count": 22,
   "metadata": {},
   "outputs": [],
   "source": [
    "def convert_to_kes(row):\n",
    "    if row['Currency'] == 'USD':\n",
    "        return row['Amount'] * usd_to_kes_rate\n",
    "    elif row['Currency'] == 'EUR':\n",
    "        return row['Amount'] * eur_to_kes_rate\n",
    "    else:\n",
    "        return row['Amount']"
   ]
  },
  {
   "cell_type": "code",
   "execution_count": 23,
   "metadata": {},
   "outputs": [],
   "source": [
    "dfc['Amount_in_KES'] = dfc.apply(convert_to_kes, axis=1)"
   ]
  },
  {
   "cell_type": "code",
   "execution_count": 24,
   "metadata": {},
   "outputs": [
    {
     "name": "stdout",
     "output_type": "stream",
     "text": [
      "[       Root    ChatType Currency        Amount  Amount_in_KES\n",
      "0     10809   DEBENTURE      USD  2.200000e+06   2.420000e+08\n",
      "1     10809   DEBENTURE      USD  6.000000e+05   6.600000e+07\n",
      "2     11090   DEBENTURE      KES  5.000000e+07   5.000000e+07\n",
      "3     11090   DEBENTURE      KES  1.000000e+08   1.000000e+08\n",
      "4     11866   DEBENTURE      USD  3.000000e+06   3.300000e+08\n",
      "..      ...         ...      ...           ...            ...\n",
      "227  265741  DEBENTURE       KES  4.200000e+05   4.200000e+05\n",
      "228  266014   DEBENTURE      USD  1.080000e+05   1.188000e+07\n",
      "229  266228   DEBENTURE      KES  1.300000e+07   1.300000e+07\n",
      "230  266959    CHATTELS      KES  2.700000e+06   2.700000e+06\n",
      "231  267028    CHATTELS      KES  1.018617e+06   1.018617e+06\n",
      "\n",
      "[232 rows x 5 columns]]\n"
     ]
    }
   ],
   "source": [
    "print([dfc])"
   ]
  },
  {
   "cell_type": "code",
   "execution_count": 25,
   "metadata": {},
   "outputs": [],
   "source": [
    "innerjointdfldfc=pd.merge(dfl,dfc,on=('Root'), how='inner')"
   ]
  },
  {
   "cell_type": "code",
   "execution_count": 26,
   "metadata": {},
   "outputs": [
    {
     "name": "stdout",
     "output_type": "stream",
     "text": [
      "       Root     RegNo    ChatType Currency       Amount  Amount_in_KES\n",
      "0     12861  KBJ 863R  DEBENTURE       KES   3200000.00     3200000.00\n",
      "1     12861  KBJ 863R  DEBENTURE       KES  14800000.00    14800000.00\n",
      "2     12861  KBM 923P  DEBENTURE       KES   3200000.00     3200000.00\n",
      "3     12861  KBM 923P  DEBENTURE       KES  14800000.00    14800000.00\n",
      "4     12861  KBX 240K  DEBENTURE       KES   3200000.00     3200000.00\n",
      "..      ...       ...         ...      ...          ...            ...\n",
      "256  265085   KCP974L    CHATTELS      KES    750000.00      750000.00\n",
      "257  266014   KCX109B   DEBENTURE      USD    108000.00    11880000.00\n",
      "258  266014   KCX105B   DEBENTURE      USD    108000.00    11880000.00\n",
      "259  266959   KCH928Z    CHATTELS      KES   2700000.00     2700000.00\n",
      "260  267028   KDE406B    CHATTELS      KES   1018617.38     1018617.38\n",
      "\n",
      "[261 rows x 6 columns]\n"
     ]
    }
   ],
   "source": [
    "print(innerjointdfldfc)"
   ]
  },
  {
   "cell_type": "code",
   "execution_count": 27,
   "metadata": {},
   "outputs": [],
   "source": [
    "leftjn=pd.merge(dfl,dfc,on='Root',how='left')"
   ]
  },
  {
   "cell_type": "code",
   "execution_count": 28,
   "metadata": {},
   "outputs": [
    {
     "name": "stdout",
     "output_type": "stream",
     "text": [
      "       Root     RegNo    ChatType Currency       Amount  Amount_in_KES\n",
      "0     12861  KBJ 863R  DEBENTURE       KES   3200000.00     3200000.00\n",
      "1     12861  KBJ 863R  DEBENTURE       KES  14800000.00    14800000.00\n",
      "2     12861  KBM 923P  DEBENTURE       KES   3200000.00     3200000.00\n",
      "3     12861  KBM 923P  DEBENTURE       KES  14800000.00    14800000.00\n",
      "4     12861  KBX 240K  DEBENTURE       KES   3200000.00     3200000.00\n",
      "..      ...       ...         ...      ...          ...            ...\n",
      "375  265085   KCP974L    CHATTELS      KES    750000.00      750000.00\n",
      "376  266014   KCX109B   DEBENTURE      USD    108000.00    11880000.00\n",
      "377  266014   KCX105B   DEBENTURE      USD    108000.00    11880000.00\n",
      "378  266959   KCH928Z    CHATTELS      KES   2700000.00     2700000.00\n",
      "379  267028   KDE406B    CHATTELS      KES   1018617.38     1018617.38\n",
      "\n",
      "[380 rows x 6 columns]\n"
     ]
    }
   ],
   "source": [
    "print(leftjn)"
   ]
  },
  {
   "cell_type": "code",
   "execution_count": 29,
   "metadata": {},
   "outputs": [],
   "source": [
    "rightjn=pd.merge(dfl,dfc,on='Root', how='right')"
   ]
  },
  {
   "cell_type": "code",
   "execution_count": 30,
   "metadata": {},
   "outputs": [
    {
     "name": "stdout",
     "output_type": "stream",
     "text": [
      "       Root    RegNo   ChatType Currency        Amount  Amount_in_KES\n",
      "0     10809      NaN  DEBENTURE      USD  2.200000e+06   2.420000e+08\n",
      "1     10809      NaN  DEBENTURE      USD  6.000000e+05   6.600000e+07\n",
      "2     11090      NaN  DEBENTURE      KES  5.000000e+07   5.000000e+07\n",
      "3     11090      NaN  DEBENTURE      KES  1.000000e+08   1.000000e+08\n",
      "4     11866      NaN  DEBENTURE      USD  3.000000e+06   3.300000e+08\n",
      "..      ...      ...        ...      ...           ...            ...\n",
      "330  266014  KCX109B  DEBENTURE      USD  1.080000e+05   1.188000e+07\n",
      "331  266014  KCX105B  DEBENTURE      USD  1.080000e+05   1.188000e+07\n",
      "332  266228      NaN  DEBENTURE      KES  1.300000e+07   1.300000e+07\n",
      "333  266959  KCH928Z   CHATTELS      KES  2.700000e+06   2.700000e+06\n",
      "334  267028  KDE406B   CHATTELS      KES  1.018617e+06   1.018617e+06\n",
      "\n",
      "[335 rows x 6 columns]\n"
     ]
    }
   ],
   "source": [
    "print(rightjn)"
   ]
  },
  {
   "cell_type": "code",
   "execution_count": 31,
   "metadata": {},
   "outputs": [],
   "source": [
    "outerjn=pd.merge(dfl,dfc,on='Root',how='outer')"
   ]
  },
  {
   "cell_type": "code",
   "execution_count": 33,
   "metadata": {},
   "outputs": [
    {
     "data": {
      "text/html": [
       "<div>\n",
       "<style scoped>\n",
       "    .dataframe tbody tr th:only-of-type {\n",
       "        vertical-align: middle;\n",
       "    }\n",
       "\n",
       "    .dataframe tbody tr th {\n",
       "        vertical-align: top;\n",
       "    }\n",
       "\n",
       "    .dataframe thead th {\n",
       "        text-align: right;\n",
       "    }\n",
       "</style>\n",
       "<table border=\"1\" class=\"dataframe\">\n",
       "  <thead>\n",
       "    <tr style=\"text-align: right;\">\n",
       "      <th></th>\n",
       "      <th>Root</th>\n",
       "      <th>RegNo</th>\n",
       "      <th>ChatType</th>\n",
       "      <th>Currency</th>\n",
       "      <th>Amount</th>\n",
       "      <th>Amount_in_KES</th>\n",
       "    </tr>\n",
       "  </thead>\n",
       "  <tbody>\n",
       "    <tr>\n",
       "      <th>0</th>\n",
       "      <td>12861</td>\n",
       "      <td>KBJ 863R</td>\n",
       "      <td>DEBENTURE</td>\n",
       "      <td>KES</td>\n",
       "      <td>3200000.0</td>\n",
       "      <td>3200000.0</td>\n",
       "    </tr>\n",
       "    <tr>\n",
       "      <th>1</th>\n",
       "      <td>12861</td>\n",
       "      <td>KBJ 863R</td>\n",
       "      <td>DEBENTURE</td>\n",
       "      <td>KES</td>\n",
       "      <td>14800000.0</td>\n",
       "      <td>14800000.0</td>\n",
       "    </tr>\n",
       "    <tr>\n",
       "      <th>2</th>\n",
       "      <td>12861</td>\n",
       "      <td>KBM 923P</td>\n",
       "      <td>DEBENTURE</td>\n",
       "      <td>KES</td>\n",
       "      <td>3200000.0</td>\n",
       "      <td>3200000.0</td>\n",
       "    </tr>\n",
       "    <tr>\n",
       "      <th>3</th>\n",
       "      <td>12861</td>\n",
       "      <td>KBM 923P</td>\n",
       "      <td>DEBENTURE</td>\n",
       "      <td>KES</td>\n",
       "      <td>14800000.0</td>\n",
       "      <td>14800000.0</td>\n",
       "    </tr>\n",
       "    <tr>\n",
       "      <th>4</th>\n",
       "      <td>12861</td>\n",
       "      <td>KBX 240K</td>\n",
       "      <td>DEBENTURE</td>\n",
       "      <td>KES</td>\n",
       "      <td>3200000.0</td>\n",
       "      <td>3200000.0</td>\n",
       "    </tr>\n",
       "    <tr>\n",
       "      <th>...</th>\n",
       "      <td>...</td>\n",
       "      <td>...</td>\n",
       "      <td>...</td>\n",
       "      <td>...</td>\n",
       "      <td>...</td>\n",
       "      <td>...</td>\n",
       "    </tr>\n",
       "    <tr>\n",
       "      <th>449</th>\n",
       "      <td>260191</td>\n",
       "      <td>NaN</td>\n",
       "      <td>DEBENTURE</td>\n",
       "      <td>KES</td>\n",
       "      <td>13000000.0</td>\n",
       "      <td>13000000.0</td>\n",
       "    </tr>\n",
       "    <tr>\n",
       "      <th>450</th>\n",
       "      <td>260191</td>\n",
       "      <td>NaN</td>\n",
       "      <td>DEBENTURE</td>\n",
       "      <td>KES</td>\n",
       "      <td>7474000.0</td>\n",
       "      <td>7474000.0</td>\n",
       "    </tr>\n",
       "    <tr>\n",
       "      <th>451</th>\n",
       "      <td>264015</td>\n",
       "      <td>NaN</td>\n",
       "      <td>DEBENTURE</td>\n",
       "      <td>KES</td>\n",
       "      <td>20000000.0</td>\n",
       "      <td>20000000.0</td>\n",
       "    </tr>\n",
       "    <tr>\n",
       "      <th>452</th>\n",
       "      <td>265741</td>\n",
       "      <td>NaN</td>\n",
       "      <td>DEBENTURE</td>\n",
       "      <td>KES</td>\n",
       "      <td>420000.0</td>\n",
       "      <td>420000.0</td>\n",
       "    </tr>\n",
       "    <tr>\n",
       "      <th>453</th>\n",
       "      <td>266228</td>\n",
       "      <td>NaN</td>\n",
       "      <td>DEBENTURE</td>\n",
       "      <td>KES</td>\n",
       "      <td>13000000.0</td>\n",
       "      <td>13000000.0</td>\n",
       "    </tr>\n",
       "  </tbody>\n",
       "</table>\n",
       "<p>454 rows × 6 columns</p>\n",
       "</div>"
      ],
      "text/plain": [
       "       Root     RegNo    ChatType Currency      Amount  Amount_in_KES\n",
       "0     12861  KBJ 863R  DEBENTURE       KES   3200000.0      3200000.0\n",
       "1     12861  KBJ 863R  DEBENTURE       KES  14800000.0     14800000.0\n",
       "2     12861  KBM 923P  DEBENTURE       KES   3200000.0      3200000.0\n",
       "3     12861  KBM 923P  DEBENTURE       KES  14800000.0     14800000.0\n",
       "4     12861  KBX 240K  DEBENTURE       KES   3200000.0      3200000.0\n",
       "..      ...       ...         ...      ...         ...            ...\n",
       "449  260191       NaN   DEBENTURE      KES  13000000.0     13000000.0\n",
       "450  260191       NaN   DEBENTURE      KES   7474000.0      7474000.0\n",
       "451  264015       NaN   DEBENTURE      KES  20000000.0     20000000.0\n",
       "452  265741       NaN  DEBENTURE       KES    420000.0       420000.0\n",
       "453  266228       NaN   DEBENTURE      KES  13000000.0     13000000.0\n",
       "\n",
       "[454 rows x 6 columns]"
      ]
     },
     "execution_count": 33,
     "metadata": {},
     "output_type": "execute_result"
    }
   ],
   "source": [
    "outerjn"
   ]
  },
  {
   "cell_type": "code",
   "execution_count": 1,
   "metadata": {},
   "outputs": [],
   "source": [
    "import pandas as pd"
   ]
  },
  {
   "cell_type": "code",
   "execution_count": 2,
   "metadata": {},
   "outputs": [],
   "source": [
    "import matplotlib as plt"
   ]
  },
  {
   "cell_type": "code",
   "execution_count": 3,
   "metadata": {},
   "outputs": [],
   "source": [
    "datasum=pd.read_csv(r\"C:\\Users\\Nathan.Kipchumba\\Desktop\\sum.csv\")"
   ]
  },
  {
   "cell_type": "code",
   "execution_count": 4,
   "metadata": {},
   "outputs": [],
   "source": [
    "sum=pd.DataFrame(datasum,columns=(['AMOUNTS','MONTHS']))"
   ]
  },
  {
   "cell_type": "code",
   "execution_count": 5,
   "metadata": {},
   "outputs": [
    {
     "name": "stdout",
     "output_type": "stream",
     "text": [
      "    AMOUNTS  MONTHS\n",
      "0       NaN       1\n",
      "1       NaN       2\n",
      "2       NaN       3\n",
      "3       NaN       4\n",
      "4       NaN       5\n",
      "5       NaN       6\n",
      "6       NaN       7\n",
      "7       NaN       8\n",
      "8       NaN       9\n",
      "9       NaN      10\n",
      "10      NaN      11\n",
      "11      NaN      12\n"
     ]
    }
   ],
   "source": [
    "print(sum)"
   ]
  },
  {
   "cell_type": "code",
   "execution_count": 7,
   "metadata": {},
   "outputs": [],
   "source": [
    "sum=pd.DataFrame(datasum)"
   ]
  },
  {
   "cell_type": "code",
   "execution_count": 8,
   "metadata": {},
   "outputs": [
    {
     "name": "stdout",
     "output_type": "stream",
     "text": [
      "          AMOUNT  MONTHS\n",
      "0   4.196453e+09       1\n",
      "1   4.991445e+09       2\n",
      "2   8.183470e+09       3\n",
      "3   9.898156e+09       4\n",
      "4   1.020376e+10       5\n",
      "5   1.299389e+10       6\n",
      "6   1.546473e+10       7\n",
      "7   1.575004e+10       8\n",
      "8   1.981788e+10       9\n",
      "9   1.940966e+10      10\n",
      "10  2.372021e+10      11\n",
      "11  3.245149e+10      12\n"
     ]
    }
   ],
   "source": [
    "print(sum)"
   ]
  },
  {
   "cell_type": "code",
   "execution_count": 9,
   "metadata": {},
   "outputs": [],
   "source": [
    "import matplotlib.pyplot as plt"
   ]
  },
  {
   "cell_type": "code",
   "execution_count": 1,
   "metadata": {},
   "outputs": [
    {
     "ename": "AttributeError",
     "evalue": "'builtin_function_or_method' object has no attribute 'plot'",
     "output_type": "error",
     "traceback": [
      "\u001b[1;31m---------------------------------------------------------------------------\u001b[0m",
      "\u001b[1;31mAttributeError\u001b[0m                            Traceback (most recent call last)",
      "Cell \u001b[1;32mIn[1], line 1\u001b[0m\n\u001b[1;32m----> 1\u001b[0m sumplot\u001b[38;5;241m=\u001b[39m\u001b[38;5;28;43msum\u001b[39;49m\u001b[38;5;241;43m.\u001b[39;49m\u001b[43mplot\u001b[49m(x\u001b[38;5;241m=\u001b[39m\u001b[38;5;124m'\u001b[39m\u001b[38;5;124mMONTHS\u001b[39m\u001b[38;5;124m'\u001b[39m,y\u001b[38;5;241m=\u001b[39m\u001b[38;5;124m'\u001b[39m\u001b[38;5;124mAMOUNT\u001b[39m\u001b[38;5;124m'\u001b[39m,marker\u001b[38;5;241m=\u001b[39m\u001b[38;5;124m'\u001b[39m\u001b[38;5;124mo\u001b[39m\u001b[38;5;124m'\u001b[39m,color\u001b[38;5;241m=\u001b[39m\u001b[38;5;124m'\u001b[39m\u001b[38;5;124mred\u001b[39m\u001b[38;5;124m'\u001b[39m,edgecolor\u001b[38;5;241m=\u001b[39m\u001b[38;5;124m'\u001b[39m\u001b[38;5;124mblue\u001b[39m\u001b[38;5;124m'\u001b[39m,s\u001b[38;5;241m=\u001b[39m\u001b[38;5;241m50\u001b[39m,alpha\u001b[38;5;241m=\u001b[39m\u001b[38;5;241m1.0\u001b[39m,label\u001b[38;5;241m=\u001b[39m\u001b[38;5;124m'\u001b[39m\u001b[38;5;124msum\u001b[39m\u001b[38;5;124m'\u001b[39m,kind\u001b[38;5;241m=\u001b[39m\u001b[38;5;124m'\u001b[39m\u001b[38;5;124mscatter\u001b[39m\u001b[38;5;124m'\u001b[39m)\n",
      "\u001b[1;31mAttributeError\u001b[0m: 'builtin_function_or_method' object has no attribute 'plot'"
     ]
    }
   ],
   "source": [
    "sumplot=sum.plot(x='MONTHS',y='AMOUNT',marker='o',color='red',edgecolor='blue',s=50,alpha=1.0,label='sum',kind='scatter')"
   ]
  },
  {
   "cell_type": "code",
   "execution_count": 11,
   "metadata": {},
   "outputs": [
    {
     "data": {
      "text/plain": [
       "<matplotlib.legend.Legend at 0x14b022afaa0>"
      ]
     },
     "execution_count": 11,
     "metadata": {},
     "output_type": "execute_result"
    }
   ],
   "source": [
    "sumplot.legend()"
   ]
  },
  {
   "cell_type": "code",
   "execution_count": 56,
   "metadata": {},
   "outputs": [],
   "source": [
    "sumplot.set_facecolor('#154856')"
   ]
  },
  {
   "cell_type": "code",
   "execution_count": 57,
   "metadata": {},
   "outputs": [
    {
     "data": {
      "text/plain": [
       "Text(0.5, 1.0, 'SumSumary')"
      ]
     },
     "execution_count": 57,
     "metadata": {},
     "output_type": "execute_result"
    }
   ],
   "source": [
    "sumplot.set_title('SumSumary')"
   ]
  },
  {
   "cell_type": "code",
   "execution_count": 64,
   "metadata": {},
   "outputs": [
    {
     "data": {
      "text/plain": [
       "<Axes: title={'center': 'SumSumary'}, xlabel='MONTHS', ylabel='AMOUNT'>"
      ]
     },
     "execution_count": 64,
     "metadata": {},
     "output_type": "execute_result"
    },
    {
     "ename": "",
     "evalue": "",
     "output_type": "error",
     "traceback": [
      "\u001b[1;31mThe Kernel crashed while executing code in the the current cell or a previous cell. Please review the code in the cell(s) to identify a possible cause of the failure. Click <a href='https://aka.ms/vscodeJupyterKernelCrash'>here</a> for more info. View Jupyter <a href='command:jupyter.viewOutput'>log</a> for further details."
     ]
    }
   ],
   "source": [
    "sumplot"
   ]
  },
  {
   "cell_type": "code",
   "execution_count": 12,
   "metadata": {},
   "outputs": [
    {
     "data": {
      "text/plain": [
       "<Axes: xlabel='MONTHS'>"
      ]
     },
     "execution_count": 12,
     "metadata": {},
     "output_type": "execute_result"
    },
    {
     "data": {
      "image/png": "[encoded data removed]",
      "text/plain": [
       "<Figure size 640x480 with 1 Axes>"
      ]
     },
     "metadata": {},
     "output_type": "display_data"
    }
   ],
   "source": [
    "sum.plot(x='MONTHS',y='AMOUNT', kind='line',color='red', marker='o', linestyle=':', linewidth=2, markersize=8, label='Sum')"
   ]
  },
  {
   "cell_type": "code",
   "execution_count": 13,
   "metadata": {},
   "outputs": [
    {
     "data": {
      "text/plain": [
       "<Axes: xlabel='MONTHS'>"
      ]
     },
     "execution_count": 13,
     "metadata": {},
     "output_type": "execute_result"
    },
    {
     "data": {
      "image/png": "[encoded data removed]",
      "text/plain": [
       "<Figure size 640x480 with 1 Axes>"
      ]
     },
     "metadata": {},
     "output_type": "display_data"
    }
   ],
   "source": [
    "sum.plot(x='MONTHS',y='AMOUNT', kind='bar',color='red', edgecolor='red', linewidth=1, label='Sum')"
   ]
  },
  {
   "cell_type": "code",
   "execution_count": 14,
   "metadata": {},
   "outputs": [
    {
     "data": {
      "text/plain": [
       "<Axes: ylabel='AMOUNT'>"
      ]
     },
     "execution_count": 14,
     "metadata": {},
     "output_type": "execute_result"
    },
    {
     "data": {
      "image/png": "[encoded data removed]",
      "text/plain": [
       "<Figure size 500x500 with 1 Axes>"
      ]
     },
     "metadata": {},
     "output_type": "display_data"
    }
   ],
   "source": [
    "sum.plot.pie(x='MONTHS',y='AMOUNT', figsize=(5,5), autopct='%1.1f%%', startangle=90)"
   ]
  },
  {
   "cell_type": "code",
   "execution_count": null,
   "metadata": {},
   "outputs": [],
   "source": []
  }
 ],
 "metadata": {
  "kernelspec": {
   "display_name": "Python 3",
   "language": "python",
   "name": "python3"
  },
  "language_info": {
   "codemirror_mode": {
    "name": "ipython",
    "version": 3
   },
   "file_extension": ".py",
   "mimetype": "text/x-python",
   "name": "python",
   "nbconvert_exporter": "python",
   "pygments_lexer": "ipython3",
   "version": "3.12.0"
  }
 },
 "nbformat": 4,
 "nbformat_minor": 2
}
